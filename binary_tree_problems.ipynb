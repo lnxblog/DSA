{
 "cells": [
  {
   "cell_type": "markdown",
   "metadata": {},
   "source": [
    "## Find nodes at a given height ##"
   ]
  },
  {
   "cell_type": "code",
   "execution_count": 4,
   "metadata": {},
   "outputs": [
    {
     "name": "stdout",
     "output_type": "stream",
     "text": [
      "4\n",
      "5\n",
      "7\n"
     ]
    }
   ],
   "source": [
    "class Node():\n",
    "\tdef __init__(self, value, left=None, right=None):\n",
    "\t\tself.value = value\n",
    "\t\tself.left = left\n",
    "\t\tself.right = right\n",
    "\n",
    "def valuesAtHeight(root, height):\n",
    "\t#print(root.value,height)\n",
    "\tif root==None:\n",
    "\t\treturn\n",
    "\t\n",
    "\tif height==1:\n",
    "\t\tprint(root.value)\n",
    "\t\treturn\n",
    "\tvaluesAtHeight(root.left,height-1)\n",
    "\tvaluesAtHeight(root.right,height-1)\n",
    "\n",
    "#     1\n",
    "#    / \\\n",
    "#   2   3\n",
    "#  / \\   \\\n",
    "# 4   5   7\n",
    "\n",
    "a = Node(1)\n",
    "a.left = Node(2)\n",
    "a.right = Node(3)\n",
    "a.left.left = Node(4)\n",
    "a.left.right = Node(5)\n",
    "a.right.right = Node(7)\n",
    "valuesAtHeight(a, 3)\n"
   ]
  },
  {
   "cell_type": "code",
   "execution_count": null,
   "metadata": {},
   "outputs": [],
   "source": []
  }
 ],
 "metadata": {
  "kernelspec": {
   "display_name": "Python 2",
   "language": "python",
   "name": "python2"
  },
  "language_info": {
   "codemirror_mode": {
    "name": "ipython",
    "version": 2
   },
   "file_extension": ".py",
   "mimetype": "text/x-python",
   "name": "python",
   "nbconvert_exporter": "python",
   "pygments_lexer": "ipython2",
   "version": "2.7.17"
  }
 },
 "nbformat": 4,
 "nbformat_minor": 2
}
